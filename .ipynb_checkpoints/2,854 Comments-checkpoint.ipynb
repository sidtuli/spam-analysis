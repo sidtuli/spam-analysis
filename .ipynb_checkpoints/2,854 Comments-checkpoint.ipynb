{
 "cells": [
  {
   "cell_type": "code",
   "execution_count": null,
   "metadata": {
    "collapsed": true
   },
   "outputs": [],
   "source": [
    "'''for word in result_dict[\"Comment\"].split():\n",
    "                    word = re.sub(\"[\\?\\.,\\“!\\\"\\”]\",\"\",word)\n",
    "                    if word in word_dict:\n",
    "                        word_dict[word] += 1\n",
    "                    else :\n",
    "                        word_dict[word] = 1'''\n",
    "                        "
   ]
  }
 ],
 "metadata": {
  "kernelspec": {
   "display_name": "Python 3",
   "language": "python",
   "name": "python3"
  },
  "language_info": {
   "codemirror_mode": {
    "name": "ipython",
    "version": 3
   },
   "file_extension": ".py",
   "mimetype": "text/x-python",
   "name": "python",
   "nbconvert_exporter": "python",
   "pygments_lexer": "ipython3",
   "version": "3.6.0"
  }
 },
 "nbformat": 4,
 "nbformat_minor": 2
}
